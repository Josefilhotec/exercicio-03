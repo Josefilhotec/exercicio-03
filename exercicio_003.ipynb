{
  "nbformat": 4,
  "nbformat_minor": 0,
  "metadata": {
    "colab": {
      "name": "exercicio 003.ipynb",
      "provenance": [],
      "authorship_tag": "ABX9TyNBdndawo4GOsykZusm2Ufy",
      "include_colab_link": true
    },
    "kernelspec": {
      "name": "python3",
      "display_name": "Python 3"
    },
    "language_info": {
      "name": "python"
    }
  },
  "cells": [
    {
      "cell_type": "markdown",
      "metadata": {
        "id": "view-in-github",
        "colab_type": "text"
      },
      "source": [
        "<a href=\"https://colab.research.google.com/github/Josefilhotec/exercicio-03/blob/main/exercicio_003.ipynb\" target=\"_parent\"><img src=\"https://colab.research.google.com/assets/colab-badge.svg\" alt=\"Open In Colab\"/></a>"
      ]
    },
    {
      "cell_type": "code",
      "execution_count": null,
      "metadata": {
        "id": "AhvU-d6EIvlW"
      },
      "outputs": [],
      "source": [
        "# Crie um programa que leia dois números interios e mostre o resultado da soma dos dois.\n",
        "print('Exemplo 01')\n",
        "n1 = int(input('Digite o 1° número: '))\n",
        "n2 = int(input('Digite o 2° número: '))\n",
        "print(f'A soma de {n1} + {n2} é {n1 + n2}')\n",
        "print(\"-=\" * 20)\n",
        "print(\"Exemplo 02 usando modo de repetição for\")\n",
        "soma = 0\n",
        "lista = []\n",
        "for contador in range(1, 3):\n",
        "    n = int(input(f'Digite o {contador}° número:'))\n",
        "    lista.append(n)\n",
        "    soma += n\n",
        "print(f'A soma de {lista[0]} + {lista[1]} é {soma}')\n",
        "print(\"-=\" * 20)\n",
        "print('Exemplo 03 usando modo de repetição while')\n",
        "contador = 1\n",
        "soma = 0\n",
        "lista = []\n",
        "while contador < 3:\n",
        "    n = int(input(f'Digite o {contador}° número: '))\n",
        "    contador += 1\n",
        "    soma += n\n",
        "    lista.append(n)\n",
        "print(f'A soma de {lista[0]} + {lista[1]} é {soma}')\n",
        "print('Fim do programa')\n"
      ]
    },
    {
      "cell_type": "markdown",
      "source": [
        ""
      ],
      "metadata": {
        "id": "6z9Lt6YwKrGL"
      }
    }
  ]
}